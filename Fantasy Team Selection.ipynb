{
 "cells": [
  {
   "cell_type": "code",
   "execution_count": 143,
   "metadata": {},
   "outputs": [],
   "source": [
    "import pandas as pd\n",
    "import requests\n",
    "import json\n",
    "gameweek_to_predict = 2\n",
    "folder_to_save_to = r\"C:\\Users\\Jim\\Documents\\fantasy prediction/\"\n",
    "n_players_to_pick = 12"
   ]
  },
  {
   "cell_type": "code",
   "execution_count": 144,
   "metadata": {},
   "outputs": [],
   "source": [
    "#Get list of fpl player names and ids\n",
    "fpl_url = 'https://fantasy.premierleague.com/api/bootstrap-static/'\n",
    "response=requests.get(fpl_url)\n",
    "fpl_response = json.loads(response.content)\n",
    "\n",
    "players = fpl_response['elements']\n",
    "players_df_whole = pd.DataFrame.from_dict(players)\n",
    "players_df = players_df_whole[['team', 'web_name', 'id', 'chance_of_playing_next_round','now_cost', 'minutes', 'first_name', 'second_name', 'element_type']]\n",
    "players_df.dropna()\n",
    "\n",
    "teams = fpl_response['teams']\n",
    "teams_df_whole = pd.DataFrame.from_dict(teams)\n",
    "teams_df = teams_df_whole[['name', 'id']]\n",
    "players_df = pd.merge(players_df, teams_df, how='left', left_on = ['team'], right_on = ['id'])\n",
    "players_df['team_name'] = players_df['name']\n",
    "players_df = players_df[['team', 'web_name', 'id_x', 'chance_of_playing_next_round','now_cost', 'minutes', 'team_name', 'first_name', 'second_name', 'element_type']]\n",
    "players_df['full_name'] = players_df['first_name'] + players_df['second_name']"
   ]
  },
  {
   "cell_type": "code",
   "execution_count": 145,
   "metadata": {},
   "outputs": [],
   "source": [
    "predictions = pd.read_csv(folder_to_save_to + \"point_prediction_gw\" + str(gameweek_to_predict) + \".csv\")\n",
    "\n",
    "predictions['prediction'] = predictions.iloc[:, 1].fillna(value=0)\n",
    "predictions.drop(predictions.index[11], inplace = True)\n",
    "predictions.drop(predictions.index[0], inplace = True)\n",
    "predictions = predictions[predictions.iloc[:, 0] > 2]\n",
    "\n",
    "predictions_fpl = pd.merge(predictions, players_df, how = 'left', left_on = ['name'], right_on = ['full_name'])\n",
    "predictions_fpl['chance_of_playing_next_round'].fillna(value=100, inplace=True)\n",
    "predictions_fpl['playing_points'] = predictions_fpl['prediction']*predictions_fpl['chance_of_playing_next_round']\n",
    "predictions_fpl.reset_index(inplace=True)"
   ]
  },
  {
   "cell_type": "code",
   "execution_count": 146,
   "metadata": {},
   "outputs": [],
   "source": [
    "predictions_fpl = pd.merge(predictions, players_df, how = 'left', left_on = ['name'], right_on = ['full_name'])\n",
    "\n",
    "predictions_fpl['chance_of_playing_next_round'].fillna(value=100, inplace=True)\n",
    "predictions_fpl['playing_points'] = predictions_fpl['prediction']*predictions_fpl['chance_of_playing_next_round']\n",
    "predictions_fpl.reset_index(inplace=True)\n",
    "\n"
   ]
  },
  {
   "cell_type": "code",
   "execution_count": 147,
   "metadata": {},
   "outputs": [
    {
     "name": "stdout",
     "output_type": "stream",
     "text": [
      "[[3, 5, 3], [4, 4, 3], [4, 5, 2], [5, 3, 3], [5, 4, 2], [5, 5, 1]]\n"
     ]
    }
   ],
   "source": [
    "#a quick function to get all possible formations allowed in FPL\n",
    "def get_formations(n_players=11):\n",
    "    possible_formations = []\n",
    "    for DEF in range(6):\n",
    "        for MID in range(6):\n",
    "            for FWD in range(4):\n",
    "                formation = [DEF, MID, FWD]\n",
    "                if sum(formation) == (n_players-1):\n",
    "                    possible_formations.append(formation)\n",
    "    return possible_formations"
   ]
  },
  {
   "cell_type": "code",
   "execution_count": 190,
   "metadata": {},
   "outputs": [
    {
     "name": "stdout",
     "output_type": "stream",
     "text": [
      "['AndrewRobertson', 'GeorgeBaldock', 'EzriKonsa Ngoyo', 'MasonGreenwood', 'MathewRyan', 'ConorHourihane', 'JuanMata', 'JamesMilner', 'JohnLundstram', 'AlexandreLacazette', 'SergioAgüero', 'JamieVardy']\n",
      "810\n",
      "80.68323194980621\n",
      "[3, 5, 3]\n"
     ]
    }
   ],
   "source": [
    "#pick the highest predicted scoring team for the gameweek\n",
    "possible_formations = get_formations(n_players_to_pick)\n",
    "available_money = 1000 - ((15 - (n_players_to_pick)) * 45)\n",
    "price_weighting = 0\n",
    "cost = []\n",
    "team_points = []\n",
    "for formation in possible_formations:\n",
    "    while sum(cost) > available_money or sum(cost) ==0:\n",
    "        picks = []\n",
    "        points = []\n",
    "        cost = []\n",
    "        team = []\n",
    "        position = []\n",
    "        predictions_fpl['selection_value'] = (predictions_fpl['playing_points'] / predictions_fpl['now_cost']) + (price_weighting/predictions_fpl['now_cost'])\n",
    "        predictions_fpl.sort_values(['selection_value'], ascending = False, inplace= True)\n",
    "        predictions_fpl = predictions_fpl.reset_index(drop=True)\n",
    "        for i in range(len(predictions_fpl)):\n",
    "            vc = 0\n",
    "            for ele in position:\n",
    "                if (ele == predictions_fpl.loc[i, 'element_type']):\n",
    "                    vc = vc + 1\n",
    "\n",
    "            tvc = 0\n",
    "            for ele in team: \n",
    "                if (ele == predictions_fpl.loc[i, 'team']): \n",
    "                    tvc = tvc + 1\n",
    "\n",
    "\n",
    "            if (tvc < 3) and ((predictions_fpl.loc[i, 'element_type'] == 1 and vc < 1) or (predictions_fpl.loc[i, 'element_type'] == 2 and vc < formation[0]) or (predictions_fpl.loc[i, 'element_type'] == 3 and vc < formation[1]) or (predictions_fpl.loc[i, 'element_type'] == 4 and vc <formation[2])):\n",
    "                picks.append(predictions_fpl.loc[i, 'name'])\n",
    "                points.append(predictions_fpl.loc[i, 'prediction'])\n",
    "                cost.append(predictions_fpl.loc[i, 'now_cost'])\n",
    "                position.append(predictions_fpl.loc[i, 'element_type'])\n",
    "                team.append(predictions_fpl.loc[i, 'team'])\n",
    "        price_weighting +=1\n",
    "    if sum(points) > sum(team_points):\n",
    "        team_points = points\n",
    "        team_picks = picks\n",
    "        team_cost = cost\n",
    "        final_formation = formation\n",
    "print(team_picks)\n",
    "print(sum(team_cost))\n",
    "print(sum(team_points))\n",
    "print(final_formation)\n",
    "dream_team = pd.DataFrame(team_picks, columns = ['name'])\n",
    "dream_team['prediction'] = team_points\n",
    "dream_team.to_csv(folder_to_save_to + \"dream_team_gw\" + str(gameweek_to_predict) + \".csv\")\n"
   ]
  },
  {
   "cell_type": "code",
   "execution_count": 149,
   "metadata": {},
   "outputs": [],
   "source": [
    "#function to make one (highest_valued) transfer\n",
    "def pick_best_transfer(prev_gw_name_col, prev_gw_position_col, prev_gw_price_col,  prediction_col, pred_price_col, pred_position_col, pred_name_col):\n",
    "    money_ITB = (1000 - ((15 - (len(prev_gw_price_col))) * 45)  - sum(prev_gw_price_col))\n",
    "    transfers = []\n",
    "    transfer_points = []\n",
    "    prev_next_prediction = []\n",
    "    for i in range(len(prev_gw_name_col)):\n",
    "        available_money = prev_gw_price_col[i] + money_ITB\n",
    "        best_transfer = prev_gw_name_col[i]\n",
    "        i_next_prediction = prediction_col[(pred_name_col[pred_name_col == best_transfer].index)]\n",
    "        i_next_prediction = prediction_col[(pred_name_col[pred_name_col == best_transfer].index)]\n",
    "        prev_next_prediction.append(sum(i_next_prediction))\n",
    "        best_transfer_points = sum(i_next_prediction)\n",
    "        for i2 in range(len(prediction_col)):\n",
    "            if (pred_price_col[i2] <= available_money) and (prediction_col[i2] > best_transfer_points) and (prev_gw_position_col[i] == pred_position_col[i2]) and (pred_name_col[i2] not in prev_gw_name_col.values):\n",
    "                best_transfer = pred_name_col[i2]\n",
    "                best_transfer_points = prediction_col[i2]\n",
    "        transfers.append(best_transfer)\n",
    "        transfer_points.append(best_transfer_points)\n",
    "    potential_transfers = pd.DataFrame(prev_gw_name_col, columns = ['name'])\n",
    "    potential_transfers['player_points'] = prev_next_prediction\n",
    "    potential_transfers['position'] = prev_gw_position_col\n",
    "    potential_transfers['transfer'] = transfers\n",
    "    potential_transfers['points'] = transfer_points\n",
    "    potential_transfers['points_gain'] = potential_transfers['points'] - potential_transfers['player_points']\n",
    "    print(potential_transfers)\n",
    "    best_transfer = potential_transfers.sort_values(['points_gain'], ascending = False).iloc[0]\n",
    "    best_transfer = potential_transfers.sort_values(['points_gain'], ascending = False).iloc[0]\n",
    "    print(\"best transfer this week: in = \" + best_transfer['transfer'] + \" out = \" + best_transfer['name'] + \" gain =\" + str(best_transfer['points_gain']))           \n",
    "    next_gw_picks = pd.DataFrame((potential_transfers['name'][potential_transfers['name'] != best_transfer['name']]), columns= ['name'])\n",
    "    next_gw_picks = next_gw_picks['name'].append(pd.DataFrame([best_transfer['transfer']]), ignore_index = True)\n",
    "    print(next_gw_picks)\n",
    "    return potential_transfers, best_transfer, next_gw_picks\n",
    "    "
   ]
  },
  {
   "cell_type": "code",
   "execution_count": 192,
   "metadata": {},
   "outputs": [],
   "source": [
    "#get picks from week before + update the actual points scored on them\n",
    "prev_gw_picks = pd.read_csv(folder_to_save_to + \"gw\" + str(gameweek_to_predict-1)+ \"_picks.csv\")\n",
    "last_gw_points = []\n",
    "for id_number in prev_gw_picks['id_x']:\n",
    "    in_fpl_url=\"https://fantasy.premierleague.com/api/element-summary/\" + str(id_number) + \"/\"\n",
    "    fpl_player = requests.get(in_fpl_url)\n",
    "    fpl_player = json.loads(fpl_player.content)\n",
    "    fpl_df_x = pd.DataFrame.from_dict(fpl_player['history'])\n",
    "    if len(fpl_df_x) == (gameweek_to_predict -1):\n",
    "        player_points_last_gw = fpl_df_x['total_points'].iloc[0]\n",
    "        last_gw_points.append(player_points_last_gw)\n",
    "    else:\n",
    "        last_gw_points.append(np.nan)\n",
    "prev_gw_picks['actual_points'] = last_gw_points\n",
    "prev_gw_picks.to_csv(folder_to_save_to + \"gw\" + str(gameweek_to_predict-1)+ \"_picks.csv\")"
   ]
  },
  {
   "cell_type": "code",
   "execution_count": 151,
   "metadata": {},
   "outputs": [
    {
     "name": "stdout",
     "output_type": "stream",
     "text": [
      "                        name  player_points  position  \\\n",
      "0   Pierre-EmerickAubameyang      11.314894         3   \n",
      "1               MohamedSalah      11.745067         3   \n",
      "2                MattDoherty       5.563466         2   \n",
      "3            AndrewRobertson      10.532272         2   \n",
      "4         AlexandreLacazette       7.308757         4   \n",
      "5             Virgilvan Dijk       7.971308         2   \n",
      "6              GeorgeBaldock       7.227848         2   \n",
      "7                EndaStevens       6.184373         2   \n",
      "8              JohnLundstram       4.511487         3   \n",
      "9            SébastienHaller       3.148787         4   \n",
      "10           LukaszFabianski       4.202721         1   \n",
      "11               GranitXhaka       3.851213         3   \n",
      "\n",
      "                    transfer     points  points_gain  \n",
      "0   Pierre-EmerickAubameyang  11.314894     0.000000  \n",
      "1               MohamedSalah  11.745067     0.000000  \n",
      "2                 LucasDigne   7.266125     1.702659  \n",
      "3            AndrewRobertson  10.532272     0.000000  \n",
      "4         AlexandreLacazette   7.308757     0.000000  \n",
      "5             Virgilvan Dijk   7.971308     0.000000  \n",
      "6                 LucasDigne   7.266125     0.038277  \n",
      "7                 LucasDigne   7.266125     1.081752  \n",
      "8             ConorHourihane   6.348630     1.837143  \n",
      "9                 NealMaupay   3.702678     0.553891  \n",
      "10  EdersonSantana de Moraes   5.550933     1.348212  \n",
      "11            ConorHourihane   6.348630     2.497417  \n",
      "best transfer this week: in = ConorHourihane out = GranitXhaka gain =2.497416853904724\n",
      "                           0\n",
      "0   Pierre-EmerickAubameyang\n",
      "1               MohamedSalah\n",
      "2                MattDoherty\n",
      "3            AndrewRobertson\n",
      "4         AlexandreLacazette\n",
      "5             Virgilvan Dijk\n",
      "6              GeorgeBaldock\n",
      "7                EndaStevens\n",
      "8              JohnLundstram\n",
      "9            SébastienHaller\n",
      "10           LukaszFabianski\n",
      "11            ConorHourihane\n"
     ]
    }
   ],
   "source": [
    "#run the transfer funtion\n",
    "transfer_options, best_transfer, next_gw_picks = pick_best_transfer(prev_gw_picks['name'], prev_gw_picks['element_type'], prev_gw_picks['now_cost'], predictions_fpl['prediction'], predictions_fpl['now_cost'], predictions_fpl['element_type'], predictions_fpl['name'])"
   ]
  },
  {
   "cell_type": "code",
   "execution_count": 153,
   "metadata": {},
   "outputs": [
    {
     "name": "stderr",
     "output_type": "stream",
     "text": [
      "C:\\Users\\Jim\\Anaconda3\\lib\\site-packages\\ipykernel_launcher.py:5: FutureWarning: The signature of `Series.to_csv` was aligned to that of `DataFrame.to_csv`, and argument 'header' will change its default value from False to True: please pass an explicit value to suppress this warning.\n",
      "  \"\"\"\n"
     ]
    }
   ],
   "source": [
    "#save all the neccessary outputs for tableau as files\n",
    "next_gw_picks_fpl = pd.merge(next_gw_picks, predictions_fpl, how = 'left', left_on = [0], right_on = ['full_name'])\n",
    "gameweek = []\n",
    "for i in range(len(next_gw_picks_fpl)):\n",
    "    gameweek.append(gameweek_to_predict)\n",
    "next_gw_picks_fpl['gameweek'] = gameweek\n",
    "net_gw_picks_fpl['actual_points'] = np.nan\n",
    "next_gw_picks_fpl.to_csv(folder_to_save_to + \"gw\" + str(gameweek_to_predict) + \"_picks.csv\")\n",
    "\n",
    "transfer_options.to_csv(folder_to_save_to + \"gw\" + str(gameweek_to_predict) + \"_transfer_options.csv\")\n",
    "best_transfer.to_csv(folder_to_save_to + \"gw\" +str(gameweek_to_predict) + \"_best_transfer.csv\")"
   ]
  },
  {
   "cell_type": "code",
   "execution_count": null,
   "metadata": {},
   "outputs": [],
   "source": []
  }
 ],
 "metadata": {
  "kernelspec": {
   "display_name": "Python 3",
   "language": "python",
   "name": "python3"
  },
  "language_info": {
   "codemirror_mode": {
    "name": "ipython",
    "version": 3
   },
   "file_extension": ".py",
   "mimetype": "text/x-python",
   "name": "python",
   "nbconvert_exporter": "python",
   "pygments_lexer": "ipython3",
   "version": "3.7.4"
  }
 },
 "nbformat": 4,
 "nbformat_minor": 2
}
